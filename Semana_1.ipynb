{
  "nbformat": 4,
  "nbformat_minor": 0,
  "metadata": {
    "colab": {
      "provenance": [],
      "authorship_tag": "ABX9TyO7i5NFOl7wByUWsVeQkNHl",
      "include_colab_link": true
    },
    "kernelspec": {
      "name": "python3",
      "display_name": "Python 3"
    },
    "language_info": {
      "name": "python"
    }
  },
  "cells": [
    {
      "cell_type": "markdown",
      "metadata": {
        "id": "view-in-github",
        "colab_type": "text"
      },
      "source": [
        "<a href=\"https://colab.research.google.com/github/gasparj195-commits/semana-1/blob/main/Semana_1.ipynb\" target=\"_parent\"><img src=\"https://colab.research.google.com/assets/colab-badge.svg\" alt=\"Open In Colab\"/></a>"
      ]
    },
    {
      "cell_type": "code",
      "execution_count": null,
      "metadata": {
        "id": "ZS4FLZH87L64",
        "colab": {
          "base_uri": "https://localhost:8080/"
        },
        "outputId": "38114eb0-572f-4c82-e73c-bd2d408e2975"
      },
      "outputs": [
        {
          "output_type": "stream",
          "name": "stdout",
          "text": [
            "Datos del Estudiante:\n",
            "Nombre: Juan Pérez\n",
            "Edad: 20 años\n"
          ]
        }
      ],
      "source": [
        "# 1. Variables y tipos de datos\n",
        "nombre_estudiante = \"Juan Pérez\"\n",
        "edad = 20\n",
        "promedio = 4.2\n",
        "es_regular = True\n",
        "\n",
        "\n",
        "# 2. La función print() para mostrar información\n",
        "print(\"Datos del Estudiante:\")\n",
        "print(\"Nombre:\", nombre_estudiante)\n",
        "print(f\"Edad: {edad} años\")\n",
        "\n",
        "# Usando f-strings, una forma moderna y útil\n",
        "# 3. La función input() para recibir datos del usuario\n",
        "asignatura_favorita = input(\"¿Cuál es tu asignatura favorita? \")\n",
        "print(f\"¡Qué bien! Tu asignatura favorita es {asignatura_favorita}.\")"
      ]
    },
    {
      "cell_type": "code",
      "source": [
        "# Definir variables\n",
        "numero1 = 15\n",
        "numero2 = 5\n",
        "\n",
        "# Suma\n",
        "suma = numero1 + numero2\n",
        "print(f\"La suma de {numero1} y {numero2} es: {suma}\")\n",
        "\n",
        "# Resta\n",
        "resta = numero1 - numero2\n",
        "print(f\"La resta de {numero1} y {numero2} es: {resta}\")\n",
        "\n",
        "# Multiplicación\n",
        "multiplicacion = numero1 * numero2\n",
        "print(f\"La multiplicación de {numero1} y {numero2} es: {multiplicacion}\")"
      ],
      "metadata": {
        "id": "zrtljggF9hEg"
      },
      "execution_count": 7,
      "outputs": []
    }
  ]
}